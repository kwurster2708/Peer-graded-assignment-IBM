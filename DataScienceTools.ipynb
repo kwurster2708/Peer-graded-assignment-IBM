{
 "cells": [
  {
   "cell_type": "markdown",
   "metadata": {},
   "source": [
    "<center>\n",
    "    <img src=\"https://cf-courses-data.s3.us.cloud-object-storage.appdomain.cloud/IBMDeveloperSkillsNetwork-DS0105EN-SkillsNetwork/labs/Module2/images/SN_web_lightmode.png\" width=\"300\" alt=\"cognitiveclass.ai logo\">\n",
    "</center>\n"
   ]
  },
  {
   "cell_type": "markdown",
   "metadata": {
    "tags": []
   },
   "source": [
    "#### Add your code below following the instructions given in the course\n"
   ]
  },
  {
   "cell_type": "markdown",
   "metadata": {},
   "source": [
    "# Peer-graded Assignment (Tools for Data Science)"
   ]
  },
  {
   "cell_type": "markdown",
   "metadata": {},
   "source": [
    "#### This is my Assignment for the IBM Course Tools for Data Science."
   ]
  },
  {
   "cell_type": "markdown",
   "metadata": {},
   "source": [
    "**Data Science Languages:**\n",
    "1. Python\n",
    "2. R\n",
    "3. SQL\n",
    "4. SAS\n",
    "5. Julia\n",
    "6. Scala\n",
    "7. MATLAB"
   ]
  },
  {
   "cell_type": "markdown",
   "metadata": {},
   "source": [
    "**Data Science Libraries:**\n",
    "1. Python Libraries:\n",
    "    1. NumPy\n",
    "    2. Pandas\n",
    "    3. TensorFlow\n",
    "    4. PyTorch\n",
    "2. R Libraries:\n",
    "    1. ggplot\n",
    "    2. caret\n",
    "3. SQL Libraries:\n",
    "    1. Apache Spark\n",
    "    2. Apache Hive\n"
   ]
  },
  {
   "cell_type": "markdown",
   "metadata": {},
   "source": [
    "| Data Science Tools | \n",
    "|--------------------|\n",
    "|    Jupyter Lab     | \n",
    "|      R-Studio      |\n",
    "|       Spyder       |\n"
   ]
  },
  {
   "cell_type": "markdown",
   "metadata": {},
   "source": [
    "### Arithmetic expression examples:\n",
    "$2 * (4 + 3)$: This expression will be evaluated as $2 * 7 = 14$, following the order of operations (parentheses first, then multiplication). \\\n",
    "$2 + 3 * 4$: This expression will be evaluated as $2 + (3 * 4) = 14$, following the order of operations (multiplication first, then addition)."
   ]
  },
  {
   "cell_type": "code",
   "execution_count": 1,
   "metadata": {},
   "outputs": [
    {
     "name": "stdout",
     "output_type": "stream",
     "text": [
      "17\n"
     ]
    }
   ],
   "source": [
    "'This a simple arithmetic expression to mutiply then add integers:'\n",
    "print((3*4)+5)"
   ]
  },
  {
   "cell_type": "code",
   "execution_count": 2,
   "metadata": {},
   "outputs": [
    {
     "name": "stdout",
     "output_type": "stream",
     "text": [
      "3.3333333333333335\n"
     ]
    }
   ],
   "source": [
    "'This will convert 200 minutes to hours by diving by 60'\n",
    "print(200/60)"
   ]
  },
  {
   "cell_type": "markdown",
   "metadata": {},
   "source": [
    "**Objectives:** \n",
    "* Data Collection\n",
    "* Data Cleaning and Preparation\n",
    "* Data Analysis\n",
    "* Data Visualization\n",
    "* Model Building\n",
    "* Model Evaluation and Refinement\n",
    "* Deployment and Integration"
   ]
  },
  {
   "cell_type": "markdown",
   "metadata": {},
   "source": [
    "## Author\n",
    "Kim Wurster"
   ]
  }
 ],
 "metadata": {
  "kernelspec": {
   "display_name": "Python",
   "language": "python",
   "name": "conda-env-python-py"
  },
  "language_info": {
   "codemirror_mode": {
    "name": "ipython",
    "version": 3
   },
   "file_extension": ".py",
   "mimetype": "text/x-python",
   "name": "python",
   "nbconvert_exporter": "python",
   "pygments_lexer": "ipython3",
   "version": "3.7.12"
  }
 },
 "nbformat": 4,
 "nbformat_minor": 4
}
